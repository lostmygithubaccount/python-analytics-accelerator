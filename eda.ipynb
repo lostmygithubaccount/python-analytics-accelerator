{
 "cells": [
  {
   "cell_type": "markdown",
   "metadata": {},
   "source": [
    "# Exploratory data analysis (EDA)\n",
    "\n",
    "Use this notebook to explore and visualize the data."
   ]
  },
  {
   "cell_type": "code",
   "execution_count": 1,
   "metadata": {},
   "outputs": [],
   "source": [
    "import os\n",
    "import ibis\n",
    "import ibis.selectors as s\n",
    "import plotly.express as px\n",
    "\n",
    "from python_analytics_accelerator.dag.config import (\n",
    "    DATA_DIR,\n",
    "    RAW_DATA_DIR,\n",
    "    BRONZE,\n",
    "    SILVER,\n",
    "    GOLD,\n",
    ")\n",
    "from python_analytics_accelerator.dag.resources import Catalog\n",
    "\n",
    "ibis.options.interactive = True\n",
    "\n",
    "px.defaults.template = \"plotly_dark\""
   ]
  },
  {
   "cell_type": "code",
   "execution_count": 2,
   "metadata": {},
   "outputs": [],
   "source": [
    "catalog = Catalog()"
   ]
  },
  {
   "cell_type": "code",
   "execution_count": 3,
   "metadata": {},
   "outputs": [
    {
     "data": {
      "text/plain": [
       "['bronze', 'gold', 'silver']"
      ]
     },
     "execution_count": 3,
     "metadata": {},
     "output_type": "execute_result"
    }
   ],
   "source": [
    "catalog.list_groups()"
   ]
  },
  {
   "cell_type": "code",
   "execution_count": 4,
   "metadata": {},
   "outputs": [
    {
     "data": {
      "text/plain": [
       "['gold_gh_commits',\n",
       " 'gold_gh_forks',\n",
       " 'gold_gh_issues',\n",
       " 'gold_gh_prs',\n",
       " 'gold_gh_stars',\n",
       " 'gold_gh_watchers',\n",
       " 'gold_pypi_downloads']"
      ]
     },
     "execution_count": 4,
     "metadata": {},
     "output_type": "execute_result"
    }
   ],
   "source": [
    "catalog.list_tables(GOLD)"
   ]
  },
  {
   "cell_type": "code",
   "execution_count": 5,
   "metadata": {},
   "outputs": [
    {
     "data": {
      "text/html": [
       "<pre style=\"white-space:pre;overflow-x:auto;line-height:normal;font-family:Menlo,'DejaVu Sans Mono',consolas,'Courier New',monospace\">┏━━━━━━━━━━━━━━━━━━━━━━━━━━━━┳━━━━━━━━━━━━━━━━┳━━━━━━━━━━━━━━┳━━━━━━━━━━━━┳━━━━━━━━━━━━━━┳━━━━━━━━━━━━━┳━━━━━━━━━━━━━━┳━━━━━━━┳━━━━━━━━━━━━━━━━━━━━┓\n",
       "┃<span style=\"font-weight: bold\"> loaded_at                  </span>┃<span style=\"font-weight: bold\"> project        </span>┃<span style=\"font-weight: bold\"> version      </span>┃<span style=\"font-weight: bold\"> date       </span>┃<span style=\"font-weight: bold\"> installer    </span>┃<span style=\"font-weight: bold\"> type        </span>┃<span style=\"font-weight: bold\"> country_code </span>┃<span style=\"font-weight: bold\"> count </span>┃<span style=\"font-weight: bold\"> start_date         </span>┃\n",
       "┡━━━━━━━━━━━━━━━━━━━━━━━━━━━━╇━━━━━━━━━━━━━━━━╇━━━━━━━━━━━━━━╇━━━━━━━━━━━━╇━━━━━━━━━━━━━━╇━━━━━━━━━━━━━╇━━━━━━━━━━━━━━╇━━━━━━━╇━━━━━━━━━━━━━━━━━━━━┩\n",
       "│ <span style=\"color: #7f7f7f; text-decoration-color: #7f7f7f\">string</span>                     │ <span style=\"color: #7f7f7f; text-decoration-color: #7f7f7f\">string</span>         │ <span style=\"color: #7f7f7f; text-decoration-color: #7f7f7f\">string</span>       │ <span style=\"color: #7f7f7f; text-decoration-color: #7f7f7f\">date</span>       │ <span style=\"color: #7f7f7f; text-decoration-color: #7f7f7f\">string</span>       │ <span style=\"color: #7f7f7f; text-decoration-color: #7f7f7f\">string</span>      │ <span style=\"color: #7f7f7f; text-decoration-color: #7f7f7f\">string</span>       │ <span style=\"color: #7f7f7f; text-decoration-color: #7f7f7f\">int64</span> │ <span style=\"color: #7f7f7f; text-decoration-color: #7f7f7f\">string</span>             │\n",
       "├────────────────────────────┼────────────────┼──────────────┼────────────┼──────────────┼─────────────┼──────────────┼───────┼────────────────────┤\n",
       "│ <span style=\"color: #008000; text-decoration-color: #008000\">2024-07-28T18:43:07.123549</span> │ <span style=\"color: #008000; text-decoration-color: #008000\">ibis-framework</span> │ <span style=\"color: #008000; text-decoration-color: #008000\">5.1.1.dev516</span> │ <span style=\"color: #800080; text-decoration-color: #800080\">2023-11-18</span> │ <span style=\"color: #008000; text-decoration-color: #008000\">bandersnatch</span> │ <span style=\"color: #008000; text-decoration-color: #008000\">sdist      </span> │ <span style=\"color: #008000; text-decoration-color: #008000\">US          </span> │     <span style=\"color: #008080; text-decoration-color: #008080; font-weight: bold\">2</span> │ <span style=\"color: #008000; text-decoration-color: #008000\">2023-11-17.parquet</span> │\n",
       "│ <span style=\"color: #008000; text-decoration-color: #008000\">2024-07-28T18:43:07.123549</span> │ <span style=\"color: #008000; text-decoration-color: #008000\">ibis-framework</span> │ <span style=\"color: #008000; text-decoration-color: #008000\">0.11.1      </span> │ <span style=\"color: #800080; text-decoration-color: #800080\">2017-06-30</span> │ <span style=\"color: #008000; text-decoration-color: #008000\">bandersnatch</span> │ <span style=\"color: #008000; text-decoration-color: #008000\">sdist      </span> │ <span style=\"color: #008000; text-decoration-color: #008000\">CN          </span> │     <span style=\"color: #008080; text-decoration-color: #008080; font-weight: bold\">5</span> │ <span style=\"color: #008000; text-decoration-color: #008000\">2017-06-30.parquet</span> │\n",
       "│ <span style=\"color: #008000; text-decoration-color: #008000\">2024-07-28T18:43:07.123549</span> │ <span style=\"color: #008000; text-decoration-color: #008000\">ibis-framework</span> │ <span style=\"color: #008000; text-decoration-color: #008000\">0.11.2      </span> │ <span style=\"color: #800080; text-decoration-color: #800080\">2022-07-01</span> │ <span style=\"color: #008000; text-decoration-color: #008000\">bandersnatch</span> │ <span style=\"color: #008000; text-decoration-color: #008000\">sdist      </span> │ <span style=\"color: #008000; text-decoration-color: #008000\">US          </span> │     <span style=\"color: #008080; text-decoration-color: #008080; font-weight: bold\">1</span> │ <span style=\"color: #008000; text-decoration-color: #008000\">2022-07-01.parquet</span> │\n",
       "│ <span style=\"color: #008000; text-decoration-color: #008000\">2024-07-28T18:43:07.123549</span> │ <span style=\"color: #008000; text-decoration-color: #008000\">ibis-framework</span> │ <span style=\"color: #008000; text-decoration-color: #008000\">0.13.0      </span> │ <span style=\"color: #800080; text-decoration-color: #800080\">2022-07-04</span> │ <span style=\"color: #008000; text-decoration-color: #008000\">pip         </span> │ <span style=\"color: #008000; text-decoration-color: #008000\">sdist      </span> │ <span style=\"color: #008000; text-decoration-color: #008000\">ES          </span> │     <span style=\"color: #008080; text-decoration-color: #008080; font-weight: bold\">1</span> │ <span style=\"color: #008000; text-decoration-color: #008000\">2022-07-01.parquet</span> │\n",
       "│ <span style=\"color: #008000; text-decoration-color: #008000\">2024-07-28T18:43:07.123549</span> │ <span style=\"color: #008000; text-decoration-color: #008000\">ibis-framework</span> │ <span style=\"color: #008000; text-decoration-color: #008000\">8.0.0       </span> │ <span style=\"color: #800080; text-decoration-color: #800080\">2024-06-05</span> │ <span style=\"color: #008000; text-decoration-color: #008000\">pip         </span> │ <span style=\"color: #008000; text-decoration-color: #008000\">bdist_wheel</span> │ <span style=\"color: #008000; text-decoration-color: #008000\">US          </span> │  <span style=\"color: #008080; text-decoration-color: #008080; font-weight: bold\">1934</span> │ <span style=\"color: #008000; text-decoration-color: #008000\">2024-05-31.parquet</span> │\n",
       "│ <span style=\"color: #008000; text-decoration-color: #008000\">2024-07-28T18:43:07.123549</span> │ <span style=\"color: #008000; text-decoration-color: #008000\">ibis-framework</span> │ <span style=\"color: #008000; text-decoration-color: #008000\">8.0.0       </span> │ <span style=\"color: #800080; text-decoration-color: #800080\">2024-06-06</span> │ <span style=\"color: #008000; text-decoration-color: #008000\">Browser     </span> │ <span style=\"color: #008000; text-decoration-color: #008000\">bdist_wheel</span> │ <span style=\"color: #008000; text-decoration-color: #008000\">AU          </span> │     <span style=\"color: #008080; text-decoration-color: #008080; font-weight: bold\">1</span> │ <span style=\"color: #008000; text-decoration-color: #008000\">2024-05-31.parquet</span> │\n",
       "│ <span style=\"color: #008000; text-decoration-color: #008000\">2024-07-28T18:43:07.123549</span> │ <span style=\"color: #008000; text-decoration-color: #008000\">ibis-framework</span> │ <span style=\"color: #008000; text-decoration-color: #008000\">8.0.0       </span> │ <span style=\"color: #800080; text-decoration-color: #800080\">2024-06-06</span> │ <span style=\"color: #008000; text-decoration-color: #008000\">pip         </span> │ <span style=\"color: #008000; text-decoration-color: #008000\">bdist_wheel</span> │ <span style=\"color: #008000; text-decoration-color: #008000\">BR          </span> │     <span style=\"color: #008080; text-decoration-color: #008080; font-weight: bold\">8</span> │ <span style=\"color: #008000; text-decoration-color: #008000\">2024-05-31.parquet</span> │\n",
       "│ <span style=\"color: #008000; text-decoration-color: #008000\">2024-07-28T18:43:07.123549</span> │ <span style=\"color: #008000; text-decoration-color: #008000\">ibis-framework</span> │ <span style=\"color: #008000; text-decoration-color: #008000\">8.0.0       </span> │ <span style=\"color: #800080; text-decoration-color: #800080\">2024-06-06</span> │ <span style=\"color: #008000; text-decoration-color: #008000\">pip         </span> │ <span style=\"color: #008000; text-decoration-color: #008000\">bdist_wheel</span> │ <span style=\"color: #008000; text-decoration-color: #008000\">CN          </span> │     <span style=\"color: #008080; text-decoration-color: #008080; font-weight: bold\">1</span> │ <span style=\"color: #008000; text-decoration-color: #008000\">2024-05-31.parquet</span> │\n",
       "│ <span style=\"color: #008000; text-decoration-color: #008000\">2024-07-28T18:43:07.123549</span> │ <span style=\"color: #008000; text-decoration-color: #008000\">ibis-framework</span> │ <span style=\"color: #008000; text-decoration-color: #008000\">8.0.0       </span> │ <span style=\"color: #800080; text-decoration-color: #800080\">2024-06-06</span> │ <span style=\"color: #008000; text-decoration-color: #008000\">pip         </span> │ <span style=\"color: #008000; text-decoration-color: #008000\">bdist_wheel</span> │ <span style=\"color: #008000; text-decoration-color: #008000\">HK          </span> │     <span style=\"color: #008080; text-decoration-color: #008080; font-weight: bold\">2</span> │ <span style=\"color: #008000; text-decoration-color: #008000\">2024-05-31.parquet</span> │\n",
       "│ <span style=\"color: #008000; text-decoration-color: #008000\">2024-07-28T18:43:07.123549</span> │ <span style=\"color: #008000; text-decoration-color: #008000\">ibis-framework</span> │ <span style=\"color: #008000; text-decoration-color: #008000\">8.0.0       </span> │ <span style=\"color: #800080; text-decoration-color: #800080\">2024-06-06</span> │ <span style=\"color: #008000; text-decoration-color: #008000\">poetry      </span> │ <span style=\"color: #008000; text-decoration-color: #008000\">bdist_wheel</span> │ <span style=\"color: #008000; text-decoration-color: #008000\">IE          </span> │     <span style=\"color: #008080; text-decoration-color: #008080; font-weight: bold\">5</span> │ <span style=\"color: #008000; text-decoration-color: #008000\">2024-05-31.parquet</span> │\n",
       "│ <span style=\"color: #7f7f7f; text-decoration-color: #7f7f7f\">…</span>                          │ <span style=\"color: #7f7f7f; text-decoration-color: #7f7f7f\">…</span>              │ <span style=\"color: #7f7f7f; text-decoration-color: #7f7f7f\">…</span>            │ <span style=\"color: #7f7f7f; text-decoration-color: #7f7f7f\">…</span>          │ <span style=\"color: #7f7f7f; text-decoration-color: #7f7f7f\">…</span>            │ <span style=\"color: #7f7f7f; text-decoration-color: #7f7f7f\">…</span>           │ <span style=\"color: #7f7f7f; text-decoration-color: #7f7f7f\">…</span>            │     <span style=\"color: #7f7f7f; text-decoration-color: #7f7f7f\">…</span> │ <span style=\"color: #7f7f7f; text-decoration-color: #7f7f7f\">…</span>                  │\n",
       "└────────────────────────────┴────────────────┴──────────────┴────────────┴──────────────┴─────────────┴──────────────┴───────┴────────────────────┘\n",
       "</pre>\n"
      ],
      "text/plain": [
       "┏━━━━━━━━━━━━━━━━━━━━━━━━━━━━┳━━━━━━━━━━━━━━━━┳━━━━━━━━━━━━━━┳━━━━━━━━━━━━┳━━━━━━━━━━━━━━┳━━━━━━━━━━━━━┳━━━━━━━━━━━━━━┳━━━━━━━┳━━━━━━━━━━━━━━━━━━━━┓\n",
       "┃\u001b[1m \u001b[0m\u001b[1mloaded_at\u001b[0m\u001b[1m                 \u001b[0m\u001b[1m \u001b[0m┃\u001b[1m \u001b[0m\u001b[1mproject\u001b[0m\u001b[1m       \u001b[0m\u001b[1m \u001b[0m┃\u001b[1m \u001b[0m\u001b[1mversion\u001b[0m\u001b[1m     \u001b[0m\u001b[1m \u001b[0m┃\u001b[1m \u001b[0m\u001b[1mdate\u001b[0m\u001b[1m      \u001b[0m\u001b[1m \u001b[0m┃\u001b[1m \u001b[0m\u001b[1minstaller\u001b[0m\u001b[1m   \u001b[0m\u001b[1m \u001b[0m┃\u001b[1m \u001b[0m\u001b[1mtype\u001b[0m\u001b[1m       \u001b[0m\u001b[1m \u001b[0m┃\u001b[1m \u001b[0m\u001b[1mcountry_code\u001b[0m\u001b[1m \u001b[0m┃\u001b[1m \u001b[0m\u001b[1mcount\u001b[0m\u001b[1m \u001b[0m┃\u001b[1m \u001b[0m\u001b[1mstart_date\u001b[0m\u001b[1m        \u001b[0m\u001b[1m \u001b[0m┃\n",
       "┡━━━━━━━━━━━━━━━━━━━━━━━━━━━━╇━━━━━━━━━━━━━━━━╇━━━━━━━━━━━━━━╇━━━━━━━━━━━━╇━━━━━━━━━━━━━━╇━━━━━━━━━━━━━╇━━━━━━━━━━━━━━╇━━━━━━━╇━━━━━━━━━━━━━━━━━━━━┩\n",
       "│ \u001b[2mstring\u001b[0m                     │ \u001b[2mstring\u001b[0m         │ \u001b[2mstring\u001b[0m       │ \u001b[2mdate\u001b[0m       │ \u001b[2mstring\u001b[0m       │ \u001b[2mstring\u001b[0m      │ \u001b[2mstring\u001b[0m       │ \u001b[2mint64\u001b[0m │ \u001b[2mstring\u001b[0m             │\n",
       "├────────────────────────────┼────────────────┼──────────────┼────────────┼──────────────┼─────────────┼──────────────┼───────┼────────────────────┤\n",
       "│ \u001b[32m2024-07-28T18:43:07.123549\u001b[0m │ \u001b[32mibis-framework\u001b[0m │ \u001b[32m5.1.1.dev516\u001b[0m │ \u001b[35m2023-11-18\u001b[0m │ \u001b[32mbandersnatch\u001b[0m │ \u001b[32msdist      \u001b[0m │ \u001b[32mUS          \u001b[0m │     \u001b[1;36m2\u001b[0m │ \u001b[32m2023-11-17.parquet\u001b[0m │\n",
       "│ \u001b[32m2024-07-28T18:43:07.123549\u001b[0m │ \u001b[32mibis-framework\u001b[0m │ \u001b[32m0.11.1      \u001b[0m │ \u001b[35m2017-06-30\u001b[0m │ \u001b[32mbandersnatch\u001b[0m │ \u001b[32msdist      \u001b[0m │ \u001b[32mCN          \u001b[0m │     \u001b[1;36m5\u001b[0m │ \u001b[32m2017-06-30.parquet\u001b[0m │\n",
       "│ \u001b[32m2024-07-28T18:43:07.123549\u001b[0m │ \u001b[32mibis-framework\u001b[0m │ \u001b[32m0.11.2      \u001b[0m │ \u001b[35m2022-07-01\u001b[0m │ \u001b[32mbandersnatch\u001b[0m │ \u001b[32msdist      \u001b[0m │ \u001b[32mUS          \u001b[0m │     \u001b[1;36m1\u001b[0m │ \u001b[32m2022-07-01.parquet\u001b[0m │\n",
       "│ \u001b[32m2024-07-28T18:43:07.123549\u001b[0m │ \u001b[32mibis-framework\u001b[0m │ \u001b[32m0.13.0      \u001b[0m │ \u001b[35m2022-07-04\u001b[0m │ \u001b[32mpip         \u001b[0m │ \u001b[32msdist      \u001b[0m │ \u001b[32mES          \u001b[0m │     \u001b[1;36m1\u001b[0m │ \u001b[32m2022-07-01.parquet\u001b[0m │\n",
       "│ \u001b[32m2024-07-28T18:43:07.123549\u001b[0m │ \u001b[32mibis-framework\u001b[0m │ \u001b[32m8.0.0       \u001b[0m │ \u001b[35m2024-06-05\u001b[0m │ \u001b[32mpip         \u001b[0m │ \u001b[32mbdist_wheel\u001b[0m │ \u001b[32mUS          \u001b[0m │  \u001b[1;36m1934\u001b[0m │ \u001b[32m2024-05-31.parquet\u001b[0m │\n",
       "│ \u001b[32m2024-07-28T18:43:07.123549\u001b[0m │ \u001b[32mibis-framework\u001b[0m │ \u001b[32m8.0.0       \u001b[0m │ \u001b[35m2024-06-06\u001b[0m │ \u001b[32mBrowser     \u001b[0m │ \u001b[32mbdist_wheel\u001b[0m │ \u001b[32mAU          \u001b[0m │     \u001b[1;36m1\u001b[0m │ \u001b[32m2024-05-31.parquet\u001b[0m │\n",
       "│ \u001b[32m2024-07-28T18:43:07.123549\u001b[0m │ \u001b[32mibis-framework\u001b[0m │ \u001b[32m8.0.0       \u001b[0m │ \u001b[35m2024-06-06\u001b[0m │ \u001b[32mpip         \u001b[0m │ \u001b[32mbdist_wheel\u001b[0m │ \u001b[32mBR          \u001b[0m │     \u001b[1;36m8\u001b[0m │ \u001b[32m2024-05-31.parquet\u001b[0m │\n",
       "│ \u001b[32m2024-07-28T18:43:07.123549\u001b[0m │ \u001b[32mibis-framework\u001b[0m │ \u001b[32m8.0.0       \u001b[0m │ \u001b[35m2024-06-06\u001b[0m │ \u001b[32mpip         \u001b[0m │ \u001b[32mbdist_wheel\u001b[0m │ \u001b[32mCN          \u001b[0m │     \u001b[1;36m1\u001b[0m │ \u001b[32m2024-05-31.parquet\u001b[0m │\n",
       "│ \u001b[32m2024-07-28T18:43:07.123549\u001b[0m │ \u001b[32mibis-framework\u001b[0m │ \u001b[32m8.0.0       \u001b[0m │ \u001b[35m2024-06-06\u001b[0m │ \u001b[32mpip         \u001b[0m │ \u001b[32mbdist_wheel\u001b[0m │ \u001b[32mHK          \u001b[0m │     \u001b[1;36m2\u001b[0m │ \u001b[32m2024-05-31.parquet\u001b[0m │\n",
       "│ \u001b[32m2024-07-28T18:43:07.123549\u001b[0m │ \u001b[32mibis-framework\u001b[0m │ \u001b[32m8.0.0       \u001b[0m │ \u001b[35m2024-06-06\u001b[0m │ \u001b[32mpoetry      \u001b[0m │ \u001b[32mbdist_wheel\u001b[0m │ \u001b[32mIE          \u001b[0m │     \u001b[1;36m5\u001b[0m │ \u001b[32m2024-05-31.parquet\u001b[0m │\n",
       "│ \u001b[2m…\u001b[0m                          │ \u001b[2m…\u001b[0m              │ \u001b[2m…\u001b[0m            │ \u001b[2m…\u001b[0m          │ \u001b[2m…\u001b[0m            │ \u001b[2m…\u001b[0m           │ \u001b[2m…\u001b[0m            │     \u001b[2m…\u001b[0m │ \u001b[2m…\u001b[0m                  │\n",
       "└────────────────────────────┴────────────────┴──────────────┴────────────┴──────────────┴─────────────┴──────────────┴───────┴────────────────────┘"
      ]
     },
     "execution_count": 5,
     "metadata": {},
     "output_type": "execute_result"
    }
   ],
   "source": [
    "t = catalog.table(\"gold_pypi_downloads\").cache()\n",
    "t"
   ]
  },
  {
   "cell_type": "code",
   "execution_count": null,
   "metadata": {},
   "outputs": [],
   "source": [
    "t.count()"
   ]
  },
  {
   "cell_type": "code",
   "execution_count": null,
   "metadata": {},
   "outputs": [],
   "source": [
    "t[\"count\"].sum()"
   ]
  },
  {
   "cell_type": "code",
   "execution_count": null,
   "metadata": {},
   "outputs": [],
   "source": [
    "t[\"date\"].min()"
   ]
  },
  {
   "cell_type": "code",
   "execution_count": null,
   "metadata": {},
   "outputs": [],
   "source": [
    "t = t.mutate(date=t[\"date\"].cast(\"timestamp\").truncate(\"D\"))\n",
    "t = t.group_by(\"date\").agg(downloads=t[\"count\"].sum())\n",
    "t.order_by(ibis.desc(\"date\"))"
   ]
  },
  {
   "cell_type": "code",
   "execution_count": null,
   "metadata": {},
   "outputs": [],
   "source": [
    "t = t.select(\n",
    "    timestamp=\"date\",\n",
    "    rolling_downloads=t[\"downloads\"]\n",
    "    .sum()\n",
    "    .over(ibis.window(order_by=\"date\", preceding=28, following=0)),\n",
    ")\n",
    "t"
   ]
  },
  {
   "cell_type": "code",
   "execution_count": null,
   "metadata": {},
   "outputs": [],
   "source": [
    "px.line(\n",
    "    t,\n",
    "    x=\"timestamp\",\n",
    "    y=\"rolling_downloads\",\n",
    ")"
   ]
  },
  {
   "cell_type": "code",
   "execution_count": null,
   "metadata": {},
   "outputs": [],
   "source": [
    "t.to_polars()"
   ]
  },
  {
   "cell_type": "code",
   "execution_count": null,
   "metadata": {},
   "outputs": [],
   "source": [
    "t.count()"
   ]
  },
  {
   "cell_type": "code",
   "execution_count": null,
   "metadata": {},
   "outputs": [],
   "source": [
    "t.schema()"
   ]
  },
  {
   "cell_type": "code",
   "execution_count": null,
   "metadata": {},
   "outputs": [],
   "source": []
  }
 ],
 "metadata": {
  "kernelspec": {
   "display_name": "venv",
   "language": "python",
   "name": "python3"
  },
  "language_info": {
   "codemirror_mode": {
    "name": "ipython",
    "version": 3
   },
   "file_extension": ".py",
   "mimetype": "text/x-python",
   "name": "python",
   "nbconvert_exporter": "python",
   "pygments_lexer": "ipython3",
   "version": "3.11.8"
  }
 },
 "nbformat": 4,
 "nbformat_minor": 2
}
